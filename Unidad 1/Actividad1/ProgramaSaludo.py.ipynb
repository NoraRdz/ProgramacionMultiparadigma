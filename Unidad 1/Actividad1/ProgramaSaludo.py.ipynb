{
 "cells": [
  {
   "cell_type": "markdown",
   "metadata": {
    "id": "Vo3LFjC6UDXX"
   },
   "source": [
    "Mi primer código, hola mundo"
   ]
  },
  {
   "cell_type": "code",
   "execution_count": 2,
   "metadata": {
    "colab": {
     "base_uri": "https://localhost:8080/"
    },
    "executionInfo": {
     "elapsed": 5,
     "status": "ok",
     "timestamp": 1756781173150,
     "user": {
      "displayName": "Nora Rodriguez",
      "userId": "16053144165399616846"
     },
     "user_tz": 300
    },
    "id": "mdS5Ve1WT9m6",
    "outputId": "8bac43fc-e79c-4689-ef08-c3a8755cfdff"
   },
   "outputs": [
    {
     "name": "stdout",
     "output_type": "stream",
     "text": [
      "hola mundo\n"
     ]
    }
   ],
   "source": [
    "print(\"hola mundo\")"
   ]
  }
 ],
 "metadata": {
  "colab": {
   "authorship_tag": "ABX9TyNzw664hjkwH9+0a2ZbY7b0",
   "provenance": []
  },
  "kernelspec": {
   "display_name": "Python 3",
   "name": "python3"
  },
  "language_info": {
   "name": "python"
  }
 },
 "nbformat": 4,
 "nbformat_minor": 0
}
